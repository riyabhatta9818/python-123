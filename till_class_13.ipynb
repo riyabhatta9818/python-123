{
  "nbformat": 4,
  "nbformat_minor": 0,
  "metadata": {
    "colab": {
      "provenance": []
    },
    "kernelspec": {
      "name": "python3",
      "display_name": "Python 3"
    },
    "language_info": {
      "name": "python"
    }
  },
  "cells": [
    {
      "cell_type": "markdown",
      "source": [
        "# Arithmetic operator\n"
      ],
      "metadata": {
        "id": "qkeMfqk_PMTe"
      }
    },
    {
      "cell_type": "code",
      "source": [
        "# modulus\n",
        "8%3"
      ],
      "metadata": {
        "colab": {
          "base_uri": "https://localhost:8080/"
        },
        "id": "yZE_r7LQPQvH",
        "outputId": "e0ac75f9-e0cc-4491-d6e3-5a7a0765c2b4"
      },
      "execution_count": null,
      "outputs": [
        {
          "output_type": "execute_result",
          "data": {
            "text/plain": [
              "2"
            ]
          },
          "metadata": {},
          "execution_count": 2
        }
      ]
    },
    {
      "cell_type": "code",
      "source": [
        "# floor division\n",
        "8//3"
      ],
      "metadata": {
        "colab": {
          "base_uri": "https://localhost:8080/"
        },
        "id": "yg3cK6izPVSK",
        "outputId": "042431ac-1769-444c-9302-005a83e5630d"
      },
      "execution_count": null,
      "outputs": [
        {
          "output_type": "execute_result",
          "data": {
            "text/plain": [
              "2"
            ]
          },
          "metadata": {},
          "execution_count": 3
        }
      ]
    },
    {
      "cell_type": "code",
      "source": [
        "8/3"
      ],
      "metadata": {
        "colab": {
          "base_uri": "https://localhost:8080/"
        },
        "id": "BJN7Uk3ePjj4",
        "outputId": "5929e4ef-c4eb-4b22-e105-27216d53ce11"
      },
      "execution_count": null,
      "outputs": [
        {
          "output_type": "execute_result",
          "data": {
            "text/plain": [
              "2.6666666666666665"
            ]
          },
          "metadata": {},
          "execution_count": 4
        }
      ]
    },
    {
      "cell_type": "code",
      "source": [
        "# exponentiation\n",
        "2**3"
      ],
      "metadata": {
        "colab": {
          "base_uri": "https://localhost:8080/"
        },
        "id": "EeooKQqWPmkE",
        "outputId": "5292c505-d6ab-41cd-d44c-fc6caae87c7a"
      },
      "execution_count": null,
      "outputs": [
        {
          "output_type": "execute_result",
          "data": {
            "text/plain": [
              "8"
            ]
          },
          "metadata": {},
          "execution_count": 5
        }
      ]
    },
    {
      "cell_type": "markdown",
      "source": [
        "# LATEX\n",
        " $$x=9$$\n",
        " $$y=8$$\n",
        " find $x^y$\n"
      ],
      "metadata": {
        "id": "Xr9u0m3GP0DG"
      }
    },
    {
      "cell_type": "markdown",
      "source": [
        "$\\frac{x}{y}$"
      ],
      "metadata": {
        "id": "7wLqDm-1P-LD"
      }
    },
    {
      "cell_type": "markdown",
      "source": [
        "$$volume=\\frac{x}{y} \\pi r^3$$"
      ],
      "metadata": {
        "id": "ZqewyzRbQGov"
      }
    },
    {
      "cell_type": "code",
      "source": [
        "a=20 # True"
      ],
      "metadata": {
        "id": "KQu7RiPWQa2C"
      },
      "execution_count": null,
      "outputs": []
    },
    {
      "cell_type": "code",
      "source": [
        "20=a # False (python ma hudaiana)"
      ],
      "metadata": {
        "colab": {
          "base_uri": "https://localhost:8080/",
          "height": 133
        },
        "id": "e-plnKs1Qs6Z",
        "outputId": "7c8ad1e8-316f-4974-8731-bdc29857883e"
      },
      "execution_count": null,
      "outputs": [
        {
          "output_type": "error",
          "ename": "SyntaxError",
          "evalue": "ignored",
          "traceback": [
            "\u001b[0;36m  File \u001b[0;32m\"<ipython-input-7-5725c34cdaab>\"\u001b[0;36m, line \u001b[0;32m1\u001b[0m\n\u001b[0;31m    20=a\u001b[0m\n\u001b[0m    ^\u001b[0m\n\u001b[0;31mSyntaxError\u001b[0m\u001b[0;31m:\u001b[0m cannot assign to literal here. Maybe you meant '==' instead of '='?\n"
          ]
        }
      ]
    },
    {
      "cell_type": "code",
      "source": [
        "apple='a'"
      ],
      "metadata": {
        "id": "CJLXeOLoQuaP"
      },
      "execution_count": null,
      "outputs": []
    },
    {
      "cell_type": "code",
      "source": [
        "apple=0"
      ],
      "metadata": {
        "id": "lNxtopy-Q8SZ"
      },
      "execution_count": null,
      "outputs": []
    },
    {
      "cell_type": "code",
      "source": [
        "false=0"
      ],
      "metadata": {
        "id": "Chy4MnTmQ9sh"
      },
      "execution_count": null,
      "outputs": []
    },
    {
      "cell_type": "code",
      "source": [
        "true=0"
      ],
      "metadata": {
        "id": "iz9FOnqRQ_EI"
      },
      "execution_count": null,
      "outputs": []
    },
    {
      "cell_type": "code",
      "source": [
        "false='f'"
      ],
      "metadata": {
        "id": "k8kXtc5XRCad"
      },
      "execution_count": null,
      "outputs": []
    },
    {
      "cell_type": "code",
      "source": [
        "true='t'"
      ],
      "metadata": {
        "id": "DZjz681fRFg4"
      },
      "execution_count": null,
      "outputs": []
    },
    {
      "cell_type": "code",
      "source": [
        "False=0"
      ],
      "metadata": {
        "colab": {
          "base_uri": "https://localhost:8080/",
          "height": 133
        },
        "id": "K5DldZemRHOq",
        "outputId": "2eb32b41-e3f4-4341-fe08-bef445aa989d"
      },
      "execution_count": null,
      "outputs": [
        {
          "output_type": "error",
          "ename": "SyntaxError",
          "evalue": "ignored",
          "traceback": [
            "\u001b[0;36m  File \u001b[0;32m\"<ipython-input-15-a00c33fbe3c5>\"\u001b[0;36m, line \u001b[0;32m1\u001b[0m\n\u001b[0;31m    False=0\u001b[0m\n\u001b[0m    ^\u001b[0m\n\u001b[0;31mSyntaxError\u001b[0m\u001b[0;31m:\u001b[0m cannot assign to False\n"
          ]
        }
      ]
    },
    {
      "cell_type": "code",
      "source": [
        "True=0"
      ],
      "metadata": {
        "colab": {
          "base_uri": "https://localhost:8080/",
          "height": 133
        },
        "id": "tp9OxrOmRI5a",
        "outputId": "d8529011-5b0c-4523-ec44-9e222c56bc4f"
      },
      "execution_count": null,
      "outputs": [
        {
          "output_type": "error",
          "ename": "SyntaxError",
          "evalue": "ignored",
          "traceback": [
            "\u001b[0;36m  File \u001b[0;32m\"<ipython-input-16-a6b90d9c7ed6>\"\u001b[0;36m, line \u001b[0;32m1\u001b[0m\n\u001b[0;31m    True=0\u001b[0m\n\u001b[0m    ^\u001b[0m\n\u001b[0;31mSyntaxError\u001b[0m\u001b[0;31m:\u001b[0m cannot assign to True\n"
          ]
        }
      ]
    },
    {
      "cell_type": "code",
      "source": [
        "False='f'"
      ],
      "metadata": {
        "colab": {
          "base_uri": "https://localhost:8080/",
          "height": 133
        },
        "id": "FKApNcpWRKwx",
        "outputId": "5ccdbc9b-de85-4a4a-92c8-92d133d5af09"
      },
      "execution_count": null,
      "outputs": [
        {
          "output_type": "error",
          "ename": "SyntaxError",
          "evalue": "ignored",
          "traceback": [
            "\u001b[0;36m  File \u001b[0;32m\"<ipython-input-17-bb0b94b7b19f>\"\u001b[0;36m, line \u001b[0;32m1\u001b[0m\n\u001b[0;31m    False='f'\u001b[0m\n\u001b[0m    ^\u001b[0m\n\u001b[0;31mSyntaxError\u001b[0m\u001b[0;31m:\u001b[0m cannot assign to False\n"
          ]
        }
      ]
    },
    {
      "cell_type": "code",
      "source": [
        "a=90\n",
        "A=89\n",
        "print(f'the value of a is {a}')\n",
        "print(f\"the value of A is {A}\")"
      ],
      "metadata": {
        "colab": {
          "base_uri": "https://localhost:8080/"
        },
        "id": "RdKg-SR-RanQ",
        "outputId": "c4009de1-ae72-4295-b0a2-9e11e4afb51e"
      },
      "execution_count": null,
      "outputs": [
        {
          "output_type": "stream",
          "name": "stdout",
          "text": [
            "the value of a is 90\n",
            "the value of A is 89\n"
          ]
        }
      ]
    },
    {
      "cell_type": "code",
      "source": [
        "# underscroll ra space biana matra lekhna paunxa\n",
        "@name"
      ],
      "metadata": {
        "colab": {
          "base_uri": "https://localhost:8080/",
          "height": 133
        },
        "id": "Zdx7lEziRVYY",
        "outputId": "63d69e81-d4d0-42d0-f8e2-73ed225d9159"
      },
      "execution_count": null,
      "outputs": [
        {
          "output_type": "error",
          "ename": "SyntaxError",
          "evalue": "ignored",
          "traceback": [
            "\u001b[0;36m  File \u001b[0;32m\"<ipython-input-20-fd9a6baf1d6b>\"\u001b[0;36m, line \u001b[0;32m1\u001b[0m\n\u001b[0;31m    @name\u001b[0m\n\u001b[0m         ^\u001b[0m\n\u001b[0;31mSyntaxError\u001b[0m\u001b[0;31m:\u001b[0m incomplete input\n"
          ]
        }
      ]
    },
    {
      "cell_type": "code",
      "source": [
        "name_riya='riya'"
      ],
      "metadata": {
        "id": "Q_71IVvORyMI"
      },
      "execution_count": null,
      "outputs": []
    },
    {
      "cell_type": "code",
      "source": [
        "nameriya='njd'"
      ],
      "metadata": {
        "id": "wo_xAAZgR2Bg"
      },
      "execution_count": null,
      "outputs": []
    },
    {
      "cell_type": "code",
      "source": [
        "name riya='riya'"
      ],
      "metadata": {
        "colab": {
          "base_uri": "https://localhost:8080/",
          "height": 133
        },
        "id": "F9xGRqKWSDi1",
        "outputId": "ea352e43-8080-4ff9-e23a-cd6e5d2e4c33"
      },
      "execution_count": null,
      "outputs": [
        {
          "output_type": "error",
          "ename": "SyntaxError",
          "evalue": "ignored",
          "traceback": [
            "\u001b[0;36m  File \u001b[0;32m\"<ipython-input-24-1f4a99406fb0>\"\u001b[0;36m, line \u001b[0;32m1\u001b[0m\n\u001b[0;31m    name riya='riya'\u001b[0m\n\u001b[0m         ^\u001b[0m\n\u001b[0;31mSyntaxError\u001b[0m\u001b[0;31m:\u001b[0m invalid syntax\n"
          ]
        }
      ]
    },
    {
      "cell_type": "code",
      "source": [
        "1name='riya'"
      ],
      "metadata": {
        "colab": {
          "base_uri": "https://localhost:8080/",
          "height": 133
        },
        "id": "dDDbkIEiSFZJ",
        "outputId": "aa10ae47-1db3-4829-b6ab-5ddd42d2739d"
      },
      "execution_count": null,
      "outputs": [
        {
          "output_type": "error",
          "ename": "SyntaxError",
          "evalue": "ignored",
          "traceback": [
            "\u001b[0;36m  File \u001b[0;32m\"<ipython-input-25-a725fca7867f>\"\u001b[0;36m, line \u001b[0;32m1\u001b[0m\n\u001b[0;31m    1name='riya'\u001b[0m\n\u001b[0m    ^\u001b[0m\n\u001b[0;31mSyntaxError\u001b[0m\u001b[0;31m:\u001b[0m invalid decimal literal\n"
          ]
        }
      ]
    },
    {
      "cell_type": "code",
      "source": [
        "nmae1anme='riya' # number lai bich ma or pachadi matra lekhna milxa"
      ],
      "metadata": {
        "id": "LEw_dnc6SVv2"
      },
      "execution_count": null,
      "outputs": []
    },
    {
      "cell_type": "code",
      "source": [
        "nmae1='riya'"
      ],
      "metadata": {
        "id": "0WLGTdGbSX9s"
      },
      "execution_count": null,
      "outputs": []
    },
    {
      "cell_type": "code",
      "source": [
        "# euclidien distance\n",
        "x1=2\n",
        "x2=9\n",
        "y1=3\n",
        "y2=8\n",
        "d=((x2-x1)**2+(y2-y1)**2)**0.5\n",
        "print(f\"the distance is {d}\")"
      ],
      "metadata": {
        "colab": {
          "base_uri": "https://localhost:8080/"
        },
        "id": "iCGgh__jSbRl",
        "outputId": "7007e8a4-da3d-44ff-9ebb-edc3fc3441ab"
      },
      "execution_count": null,
      "outputs": [
        {
          "output_type": "stream",
          "name": "stdout",
          "text": [
            "the distance is 8.602325267042627\n"
          ]
        }
      ]
    },
    {
      "cell_type": "code",
      "source": [
        "# update variable value\n",
        "batta='horlicks'\n",
        "print(f\"batta ma pailek thiyo {batta}\")\n",
        "batta='chini'\n",
        "print(f\"batta ma aba k xa {batta}\")\n"
      ],
      "metadata": {
        "colab": {
          "base_uri": "https://localhost:8080/"
        },
        "id": "Atx-savIS5Es",
        "outputId": "99cb7e59-f571-420c-b16e-4f3ccd2dcb22"
      },
      "execution_count": null,
      "outputs": [
        {
          "output_type": "stream",
          "name": "stdout",
          "text": [
            "batta ma pailek thiyo horlicks\n",
            "batta ma aba k xa chini\n"
          ]
        }
      ]
    },
    {
      "cell_type": "code",
      "source": [
        "# variable ma value update garna arthematic operator chahinxa\n",
        "a=90\n",
        "a=a+10\n",
        "print(a)"
      ],
      "metadata": {
        "colab": {
          "base_uri": "https://localhost:8080/"
        },
        "id": "mjvLyzcwUNNG",
        "outputId": "320652a7-52ba-4b7c-d93a-7f366f2e893c"
      },
      "execution_count": null,
      "outputs": [
        {
          "output_type": "stream",
          "name": "stdout",
          "text": [
            "100\n"
          ]
        }
      ]
    },
    {
      "cell_type": "code",
      "source": [
        "min_in_sec=42*60+42\n",
        "min_in_sec"
      ],
      "metadata": {
        "colab": {
          "base_uri": "https://localhost:8080/"
        },
        "id": "qHclTTG3UlwI",
        "outputId": "21fa9bae-73e6-4a3a-d77b-4be4c958938a"
      },
      "execution_count": null,
      "outputs": [
        {
          "output_type": "execute_result",
          "data": {
            "text/plain": [
              "2562"
            ]
          },
          "metadata": {},
          "execution_count": 31
        }
      ]
    },
    {
      "cell_type": "code",
      "source": [],
      "metadata": {
        "id": "T_CQkP8KVEwK"
      },
      "execution_count": null,
      "outputs": []
    },
    {
      "cell_type": "markdown",
      "source": [
        "# The volume of a sphere with $$radius =\\frac{4}{3}\\pi r^3$$\n",
        "find the radius of 5"
      ],
      "metadata": {
        "id": "U9pX77UQVNFG"
      }
    },
    {
      "cell_type": "code",
      "source": [
        "def volume(radius):\n",
        "    import math\n",
        "    radius=float(input(\"enter a radius\"))\n",
        "    volume=4/3*math.pi*radius**3\n",
        "    volume=round(volume,2)\n",
        "    print(f\"the volume is {volume}\")\n"
      ],
      "metadata": {
        "id": "KeHFK-w9YXkQ"
      },
      "execution_count": null,
      "outputs": []
    },
    {
      "cell_type": "code",
      "source": [
        "print(volume(radius))"
      ],
      "metadata": {
        "colab": {
          "base_uri": "https://localhost:8080/"
        },
        "id": "KYx7Zz1pY6iI",
        "outputId": "8a541bfa-a1e6-43a7-b5aa-9a5bc94ba468"
      },
      "execution_count": null,
      "outputs": [
        {
          "output_type": "stream",
          "name": "stdout",
          "text": [
            "enter a radius 4\n",
            "the volume is 268.08\n",
            "None\n"
          ]
        }
      ]
    },
    {
      "cell_type": "code",
      "source": [
        "print(volume(radius))"
      ],
      "metadata": {
        "colab": {
          "base_uri": "https://localhost:8080/"
        },
        "id": "F2EyFl78ZGVp",
        "outputId": "fea42c8f-411b-486f-9604-90333d33f5fa"
      },
      "execution_count": null,
      "outputs": [
        {
          "output_type": "stream",
          "name": "stdout",
          "text": [
            "enter a radius 3\n",
            "the volume is 113.1\n",
            "None\n"
          ]
        }
      ]
    },
    {
      "cell_type": "code",
      "source": [
        "# operator precedence\n",
        "# 1.) suru ma exponentiation solve garne -(sabai exponentiation huda rt-lft aru bela lft-t)\n",
        "# D-M\n",
        "# A-S\n",
        "\n"
      ],
      "metadata": {
        "id": "0O1ibOVXcAvk"
      },
      "execution_count": null,
      "outputs": []
    },
    {
      "cell_type": "code",
      "source": [
        "num=[1,2,3,4]\n",
        "for item in num:\n",
        "    if item %2==0:\n",
        "        print(f\"the {item} is even\")\n",
        "    else: \n",
        "        print(f\"the {item} is odd\")"
      ],
      "metadata": {
        "colab": {
          "base_uri": "https://localhost:8080/"
        },
        "id": "CPC9AY0Ec3qt",
        "outputId": "a38b127b-ab7b-4bc4-bbfe-a69cc26c5a73"
      },
      "execution_count": null,
      "outputs": [
        {
          "output_type": "stream",
          "name": "stdout",
          "text": [
            "the 1 is odd\n",
            "the 2 is even\n",
            "the 3 is odd\n",
            "the 4 is even\n"
          ]
        }
      ]
    },
    {
      "cell_type": "code",
      "source": [
        "[0 if item %2==0 else item for item in num]"
      ],
      "metadata": {
        "colab": {
          "base_uri": "https://localhost:8080/"
        },
        "id": "irxlU27bdTv5",
        "outputId": "8ec31820-1bd2-4db4-86a7-26b5e1ce8dc4"
      },
      "execution_count": null,
      "outputs": [
        {
          "output_type": "execute_result",
          "data": {
            "text/plain": [
              "[1, 0, 3, 0]"
            ]
          },
          "metadata": {},
          "execution_count": 74
        }
      ]
    },
    {
      "cell_type": "code",
      "source": [
        "def oddeven(num):\n",
        "    num=int(input(\"enter a number\"))\n",
        "    if num %2==0:\n",
        "        print(\"even\")\n",
        "    else:\n",
        "        print(\"odd\")    "
      ],
      "metadata": {
        "id": "ZejCbd7ydx8A"
      },
      "execution_count": null,
      "outputs": []
    },
    {
      "cell_type": "code",
      "source": [
        "print(oddeven(num))"
      ],
      "metadata": {
        "colab": {
          "base_uri": "https://localhost:8080/"
        },
        "id": "VHI5tMe4d9G8",
        "outputId": "f55f070b-7ad2-4902-f82d-9e9f472343f6"
      },
      "execution_count": null,
      "outputs": [
        {
          "output_type": "stream",
          "name": "stdout",
          "text": [
            "enter a number5\n",
            "odd\n",
            "None\n"
          ]
        }
      ]
    },
    {
      "cell_type": "code",
      "source": [
        "print(oddeven(num))"
      ],
      "metadata": {
        "colab": {
          "base_uri": "https://localhost:8080/"
        },
        "id": "3WHun-JGeBOB",
        "outputId": "c9dd82a9-8eb2-46f7-d84c-80be1368f93e"
      },
      "execution_count": null,
      "outputs": [
        {
          "output_type": "stream",
          "name": "stdout",
          "text": [
            "enter a number 2\n",
            "even\n",
            "None\n"
          ]
        }
      ]
    },
    {
      "cell_type": "code",
      "source": [
        "# square and cube\n",
        "num=[1,2,4,5,6]"
      ],
      "metadata": {
        "id": "mn9F9rGsfktM"
      },
      "execution_count": null,
      "outputs": []
    },
    {
      "cell_type": "code",
      "source": [
        "sq=[]\n",
        "cube=[]\n",
        "for item in num:\n",
        "    sq.append(item**2)\n",
        "    cube.append(item**3)"
      ],
      "metadata": {
        "id": "-3yhlLGmg5Ce"
      },
      "execution_count": null,
      "outputs": []
    },
    {
      "cell_type": "code",
      "source": [
        "sq\n"
      ],
      "metadata": {
        "colab": {
          "base_uri": "https://localhost:8080/"
        },
        "id": "QoXk775rhEhB",
        "outputId": "2f5ae7e1-9c63-4e59-df8f-184126f14ebb"
      },
      "execution_count": null,
      "outputs": [
        {
          "output_type": "execute_result",
          "data": {
            "text/plain": [
              "[1, 4, 16, 25, 36]"
            ]
          },
          "metadata": {},
          "execution_count": 93
        }
      ]
    },
    {
      "cell_type": "code",
      "source": [
        "cube"
      ],
      "metadata": {
        "colab": {
          "base_uri": "https://localhost:8080/"
        },
        "id": "7rJ4kYjBhFz2",
        "outputId": "465c7f6e-e389-4d17-da69-413e754e34ab"
      },
      "execution_count": null,
      "outputs": [
        {
          "output_type": "execute_result",
          "data": {
            "text/plain": [
              "[1, 8, 64, 125, 216]"
            ]
          },
          "metadata": {},
          "execution_count": 94
        }
      ]
    },
    {
      "cell_type": "code",
      "source": [
        "[item **2 for item in num]"
      ],
      "metadata": {
        "colab": {
          "base_uri": "https://localhost:8080/"
        },
        "id": "ppj1ae7vfyB5",
        "outputId": "d8d1f21a-7e04-4475-c7f4-5a0cb3e2c1e9"
      },
      "execution_count": null,
      "outputs": [
        {
          "output_type": "execute_result",
          "data": {
            "text/plain": [
              "[1, 4, 16, 25, 36]"
            ]
          },
          "metadata": {},
          "execution_count": 86
        }
      ]
    },
    {
      "cell_type": "code",
      "source": [
        "10==10"
      ],
      "metadata": {
        "colab": {
          "base_uri": "https://localhost:8080/"
        },
        "id": "mKy_UQpkgu0B",
        "outputId": "c99069fd-8ded-4b10-e7dd-792f868af12f"
      },
      "execution_count": null,
      "outputs": [
        {
          "output_type": "execute_result",
          "data": {
            "text/plain": [
              "True"
            ]
          },
          "metadata": {},
          "execution_count": 95
        }
      ]
    },
    {
      "cell_type": "code",
      "source": [
        "'10'==10 # string and integer are never equal"
      ],
      "metadata": {
        "colab": {
          "base_uri": "https://localhost:8080/"
        },
        "id": "GP09ggGOhSfb",
        "outputId": "d4fb31e5-bcd3-456b-ea19-ad227e108661"
      },
      "execution_count": null,
      "outputs": [
        {
          "output_type": "execute_result",
          "data": {
            "text/plain": [
              "False"
            ]
          },
          "metadata": {},
          "execution_count": 96
        }
      ]
    },
    {
      "cell_type": "code",
      "source": [
        "n=input(\"enter a name\")"
      ],
      "metadata": {
        "colab": {
          "base_uri": "https://localhost:8080/"
        },
        "id": "KmSgIy-ah7aZ",
        "outputId": "6f8ec4f7-b08a-4087-f765-ddd2e21a2ade"
      },
      "execution_count": null,
      "outputs": [
        {
          "name": "stdout",
          "output_type": "stream",
          "text": [
            "enter a name riya\n"
          ]
        }
      ]
    },
    {
      "cell_type": "code",
      "source": [
        "n"
      ],
      "metadata": {
        "colab": {
          "base_uri": "https://localhost:8080/",
          "height": 36
        },
        "id": "TFVvUAG4ibMP",
        "outputId": "46f1d618-4450-4f65-b008-d9d22a6b7787"
      },
      "execution_count": null,
      "outputs": [
        {
          "output_type": "execute_result",
          "data": {
            "text/plain": [
              "' riya'"
            ],
            "application/vnd.google.colaboratory.intrinsic+json": {
              "type": "string"
            }
          },
          "metadata": {},
          "execution_count": 101
        }
      ]
    },
    {
      "cell_type": "code",
      "source": [
        "# type casting\n",
        "a='riya'\n",
        "type(a)"
      ],
      "metadata": {
        "colab": {
          "base_uri": "https://localhost:8080/"
        },
        "id": "keXNRE2Ri6Dt",
        "outputId": "ffa531d0-3651-47b5-ad72-ac7c739d0926"
      },
      "execution_count": null,
      "outputs": [
        {
          "output_type": "execute_result",
          "data": {
            "text/plain": [
              "str"
            ]
          },
          "metadata": {},
          "execution_count": 108
        }
      ]
    },
    {
      "cell_type": "code",
      "source": [
        "s=12\n",
        "type(s)"
      ],
      "metadata": {
        "colab": {
          "base_uri": "https://localhost:8080/"
        },
        "id": "FnFckhiKjmKo",
        "outputId": "a73f57b7-b8ba-41fc-8afb-a77f061f38d5"
      },
      "execution_count": null,
      "outputs": [
        {
          "output_type": "execute_result",
          "data": {
            "text/plain": [
              "int"
            ]
          },
          "metadata": {},
          "execution_count": 109
        }
      ]
    },
    {
      "cell_type": "code",
      "source": [
        "q=9.7\n",
        "type(q)"
      ],
      "metadata": {
        "colab": {
          "base_uri": "https://localhost:8080/"
        },
        "id": "E7soGNfbjpvK",
        "outputId": "45f6a341-f823-4a48-8ef7-49fd5c5922a8"
      },
      "execution_count": null,
      "outputs": [
        {
          "output_type": "execute_result",
          "data": {
            "text/plain": [
              "float"
            ]
          },
          "metadata": {},
          "execution_count": 110
        }
      ]
    },
    {
      "cell_type": "code",
      "source": [
        "z=-9\n",
        "type(z)"
      ],
      "metadata": {
        "colab": {
          "base_uri": "https://localhost:8080/"
        },
        "id": "COL9hlNbjuAP",
        "outputId": "07935fc2-0ecb-4832-d1db-d202ee6686e5"
      },
      "execution_count": null,
      "outputs": [
        {
          "output_type": "execute_result",
          "data": {
            "text/plain": [
              "int"
            ]
          },
          "metadata": {},
          "execution_count": 111
        }
      ]
    },
    {
      "cell_type": "code",
      "source": [
        "u=('riya','rita')\n",
        "type(u)"
      ],
      "metadata": {
        "colab": {
          "base_uri": "https://localhost:8080/"
        },
        "id": "uwzGlYUYjzBP",
        "outputId": "bc529afb-341e-4de1-f6d7-65a8cc57da98"
      },
      "execution_count": null,
      "outputs": [
        {
          "output_type": "execute_result",
          "data": {
            "text/plain": [
              "tuple"
            ]
          },
          "metadata": {},
          "execution_count": 112
        }
      ]
    },
    {
      "cell_type": "code",
      "source": [
        "d=['riya','rita']\n",
        "type(d)"
      ],
      "metadata": {
        "colab": {
          "base_uri": "https://localhost:8080/"
        },
        "id": "9IuvRJd5lTI1",
        "outputId": "37efee0f-337e-4b2a-9ae7-7d66aad3a28b"
      },
      "execution_count": null,
      "outputs": [
        {
          "output_type": "execute_result",
          "data": {
            "text/plain": [
              "list"
            ]
          },
          "metadata": {},
          "execution_count": 113
        }
      ]
    },
    {
      "cell_type": "code",
      "source": [
        "f={'riya','rita'}\n",
        "type(f)"
      ],
      "metadata": {
        "colab": {
          "base_uri": "https://localhost:8080/"
        },
        "id": "T96yZtgPlZ7j",
        "outputId": "d5f27994-eda4-4c95-bfa8-71656f9eb28b"
      },
      "execution_count": null,
      "outputs": [
        {
          "output_type": "execute_result",
          "data": {
            "text/plain": [
              "set"
            ]
          },
          "metadata": {},
          "execution_count": 114
        }
      ]
    },
    {
      "cell_type": "code",
      "source": [
        "g={\n",
        "    'name':'riya'\n",
        "}"
      ],
      "metadata": {
        "id": "UGYQd9YRlfCY"
      },
      "execution_count": null,
      "outputs": []
    },
    {
      "cell_type": "code",
      "source": [
        "type(g)"
      ],
      "metadata": {
        "colab": {
          "base_uri": "https://localhost:8080/"
        },
        "id": "qnWyCI_aljli",
        "outputId": "b7049def-9eab-4efd-edf6-98780d1faceb"
      },
      "execution_count": null,
      "outputs": [
        {
          "output_type": "execute_result",
          "data": {
            "text/plain": [
              "dict"
            ]
          },
          "metadata": {},
          "execution_count": 117
        }
      ]
    },
    {
      "cell_type": "code",
      "source": [
        "inf={\n",
        "    \"name\":['riya']\n",
        "}"
      ],
      "metadata": {
        "id": "rXjpj-WoloIh"
      },
      "execution_count": null,
      "outputs": []
    },
    {
      "cell_type": "code",
      "source": [
        "type(inf)"
      ],
      "metadata": {
        "colab": {
          "base_uri": "https://localhost:8080/"
        },
        "id": "Sc-QS7mwlyTw",
        "outputId": "343e5983-2434-44b0-aad7-048af73607b9"
      },
      "execution_count": null,
      "outputs": [
        {
          "output_type": "execute_result",
          "data": {
            "text/plain": [
              "dict"
            ]
          },
          "metadata": {},
          "execution_count": 119
        }
      ]
    },
    {
      "cell_type": "markdown",
      "source": [
        "# WAP to swap between two variable\n"
      ],
      "metadata": {
        "id": "R7tQobiKmgpV"
      }
    },
    {
      "cell_type": "code",
      "source": [
        "num1=8\n",
        "num2=9\n",
        "print(\"the value of num1 before swapping :\",num1)\n",
        "print(\"the value of num2 before swapping :\",num2)\n",
        "temp=num1\n",
        "num1=num2\n",
        "num2=temp\n",
        "print(\"the value of num1 after swapping :\",num1)\n",
        "print(\"the value of num2 after swapping :\",num2)\n",
        "\n"
      ],
      "metadata": {
        "colab": {
          "base_uri": "https://localhost:8080/"
        },
        "id": "lmp_-hU2mwHg",
        "outputId": "6217f5d3-4be6-4608-be62-82009123f081"
      },
      "execution_count": null,
      "outputs": [
        {
          "output_type": "stream",
          "name": "stdout",
          "text": [
            "the value of num1 before swapping : 8\n",
            "the value of num2 before swapping : 9\n",
            "the value of num1 after swapping : 9\n",
            "the value of num2 after swapping : 8\n"
          ]
        }
      ]
    },
    {
      "cell_type": "code",
      "source": [],
      "metadata": {
        "id": "KKvaKzNV2GaX"
      },
      "execution_count": null,
      "outputs": []
    }
  ]
}